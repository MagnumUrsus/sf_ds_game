{
 "cells": [
  {
   "attachments": {},
   "cell_type": "markdown",
   "metadata": {},
   "source": [
    "Pandas подробная документация с детальным описанием всех функций https://pandas.pydata.org/pandas-docs/stable/index.html"
   ]
  },
  {
   "attachments": {},
   "cell_type": "markdown",
   "metadata": {},
   "source": [
    "import pandas as pd"
   ]
  },
  {
   "attachments": {},
   "cell_type": "markdown",
   "metadata": {},
   "source": [
    "Функция display() для вывода табличных данных в файлах формата .ipynb"
   ]
  },
  {
   "attachments": {},
   "cell_type": "markdown",
   "metadata": {},
   "source": [
    "DataFrame создаётся с помощью функции pd.DataFrame().\n",
    "\n",
    "За назначение имён столбцам отвечает параметр columns, имена в котором указываются в списке"
   ]
  },
  {
   "attachments": {},
   "cell_type": "markdown",
   "metadata": {},
   "source": [
    "axis (ось, координата). Движение по строкам в таблице обозначается axis с индексом 0, а движение по столбцам — axis с индексом 1."
   ]
  },
  {
   "attachments": {},
   "cell_type": "markdown",
   "metadata": {},
   "source": [
    "Экспорт данных в формат csv осуществляется с помощью метода DataFrame to_csv()"
   ]
  },
  {
   "attachments": {},
   "cell_type": "markdown",
   "metadata": {},
   "source": [
    "Методы для записи таблиц в файлы отличных от csv форматов:\n",
    "\n",
    "to_excel() — запись DataFrame в формат Excel-таблицы (.xlsx);\n",
    "\n",
    "to_json() — запись DataFrame в формат JSON (.json);\n",
    "\n",
    "to_xml() — запись DataFrame в формат XML-документа (.xml);\n",
    "\n",
    "to_sql() — запись DataFrame в базу данных SQL (для реализации этого метода необходимо установить соединение с базой данных)."
   ]
  },
  {
   "attachments": {},
   "cell_type": "markdown",
   "metadata": {},
   "source": [
    "Методы для чтения таблиц из файлов в отличных от csv форматах:\n",
    "\n",
    "read_excel() — чтение из формата Excel-таблицы (.xlsx) в DataFrame;\n",
    "\n",
    "read_json() — чтение из формата JSON (.json) в DataFrame;\n",
    "\n",
    "read_xml() — чтение из формата XML-документа (.xml) в DataFrame;\n",
    "\n",
    "read_sql() — чтение из базы данных SQL в DataFrame (также необходимо установить соединение с базой данных)."
   ]
  },
  {
   "attachments": {},
   "cell_type": "markdown",
   "metadata": {},
   "source": [
    "Для этого у DataFrame есть методы head() и tail(), которые возвращают n первых и n последних строк таблицы соответственно (по умолчанию n = 5).\n",
    "display(melb_data.head())"
   ]
  },
  {
   "attachments": {},
   "cell_type": "markdown",
   "metadata": {},
   "source": [
    "МЕТОД\tСТАТИСТИЧЕСКИЙ ПАРАМЕТР\n",
    "\n",
    ".count()\tКоличество непустых значений\n",
    "\n",
    ".mean()\tСреднее значение\n",
    "\n",
    ".min()\tМинимальное значение\n",
    "\n",
    ".max()\tМаксимальное значение\n",
    "\n",
    ".var()\tДисперсия\n",
    "\n",
    ".std()\tСтандартное отклонение\n",
    "\n",
    ".sum()\tСумма\n",
    "\n",
    ".quantile(x)\tКвантиль уровня x\n",
    "\n",
    ".nunique()\tЧисло уникальных значений"
   ]
  }
 ],
 "metadata": {
  "language_info": {
   "name": "python"
  },
  "orig_nbformat": 4
 },
 "nbformat": 4,
 "nbformat_minor": 2
}
